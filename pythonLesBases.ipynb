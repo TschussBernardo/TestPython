{
  "nbformat": 4,
  "nbformat_minor": 0,
  "metadata": {
    "colab": {
      "provenance": [],
      "authorship_tag": "ABX9TyPg51BAb2RKqjyksQjTuhPF",
      "include_colab_link": true
    },
    "kernelspec": {
      "name": "python3",
      "display_name": "Python 3"
    },
    "language_info": {
      "name": "python"
    }
  },
  "cells": [
    {
      "cell_type": "markdown",
      "metadata": {
        "id": "view-in-github",
        "colab_type": "text"
      },
      "source": [
        "<a href=\"https://colab.research.google.com/github/TschussBernardo/TestPython/blob/main/pythonLesBases.ipynb\" target=\"_parent\"><img src=\"https://colab.research.google.com/assets/colab-badge.svg\" alt=\"Open In Colab\"/></a>"
      ]
    },
    {
      "cell_type": "code",
      "execution_count": null,
      "metadata": {
        "colab": {
          "base_uri": "https://localhost:8080/",
          "height": 108
        },
        "id": "xaIH1oEwiZIr",
        "outputId": "afe25028-aa43-4efa-9967-b33f386e489f"
      },
      "outputs": [
        {
          "output_type": "error",
          "ename": "SyntaxError",
          "evalue": "invalid syntax (<ipython-input-1-cfff236018f1>, line 1)",
          "traceback": [
            "\u001b[0;36m  File \u001b[0;32m\"<ipython-input-1-cfff236018f1>\"\u001b[0;36m, line \u001b[0;32m1\u001b[0m\n\u001b[0;31m    Lire le fichier BienAir2021.csv\u001b[0m\n\u001b[0m         ^\u001b[0m\n\u001b[0;31mSyntaxError\u001b[0m\u001b[0;31m:\u001b[0m invalid syntax\n"
          ]
        }
      ],
      "source": [
        "Lire le fichier BienAir2021.csv\n"
      ]
    },
    {
      "cell_type": "markdown",
      "source": [],
      "metadata": {
        "id": "TAbXUa-vjOBP"
      }
    },
    {
      "cell_type": "code",
      "source": [],
      "metadata": {
        "id": "JdFcGudljOr2"
      },
      "execution_count": null,
      "outputs": []
    },
    {
      "cell_type": "code",
      "source": [
        "print(\"Hello,world !\")\n",
        "print(17+35*2)## Écrivez votre code ici !\n",
        "## Utiliser les variables\n",
        "nom = \"nanard\"\n",
        "prenom =\"gros\"\n",
        "print(f\"je suis un {prenom} {nom} \")\n",
        "\n",
        "nom = \"BERNARD\"\n",
        "age = 6\n",
        "age = age + 3\n",
        "print(f\"je m'appelle {nom} et j ai {age} ans\")\n",
        "taille = 1.45\n",
        "estetudiant = False\n",
        "print(f\"je mesure {taille}m et je suis etudiant {estetudiant}\")\n",
        "print(f\" le type des donnée esy {type(taille)} tandis que le type de la variable est {type(estetudiant)}\")\n",
        "## Les Listes\n",
        "liste_integer = [1,2,3,4,5,6,7,8,9,10]\n",
        "liste_String = [\"abcd\",\"b\",\"c\",\"d\",\"e\",\"f\",\"g\",\"h\",\"i\",\"j\"]\n",
        "## Acces au dernier element de la liste\n",
        "print(f\"le dernier element de la liste est {liste_String[-1]}\")\n",
        "## Acces a un element de la liste\n",
        "print(f\"le premier elemnent de la liste est {liste_String[0]}\")\n",
        "##une chaine de caractere de type string est une liste de caractere\n",
        "print(f\"le premier caractere de la chaine est {liste_String[0][-1]}\")\n",
        "##parcours d'une liste en sens inverse\n",
        "print(f\"voici un exemple d acces inversés {liste_String[0][-2]}\")\n",
        "##Un String est une liste de caractere\n",
        "print(f\"le sixieme caractere de la chaine {nom} est {nom[5]}\")\n",
        "## ajouter une elemnt a une lste\n",
        "liste_String.append(\"k\")\n",
        "##supprimer une element a une liste\n",
        "liste_String.remove(liste_String[0])\n",
        "##afficher toutes les elements d'une liste\n",
        "print(liste_String)\n",
        "## un tuple est une liste non modifiable\n",
        "tuple_jourDelaSemaine = (\"lundi\", \"mardi\", \"mercredi\", \"jeudi\", \"vendredi\", \"samedi\",\"dimanche\")\n",
        "##tuple_jourDelaSemaine[2] = \"mordi\" -> renvoi une erreur\n",
        "LundiExiste = \"lundi\" in tuple_jourDelaSemaine\n",
        "print(f\"le lundi existe dans le tuple {LundiExiste}\")\n",
        "liste_fruit = [\"pomme\", \"banane\", \"cerise\", \"orange\", \"kiwi\", \"melon\"]\n",
        "liste_fruit.append(\"cassis\")\n",
        "liste_fruit.remove(\"banane\")\n",
        "liste_fruit[1] = \"ananas\"\n",
        "taille_liste_fruit = len(liste_fruit)\n",
        "liste_fruit.sort\n",
        "print(liste_fruit)\n",
        "print(taille_liste_fruit)\n",
        "##les dictionnaires sont des listes accessible par des clés. Les clés sont des chaine de caractere ou autre. Le premier element est la clé et le deuxieme element est la valeur associé a cette clé.\n",
        "MonDictionnaire={\"Rouge\":\"#FF0000\", \"Vert\":\"#00FF00\", \"Bleu\":\"#0000FF\"  }\n",
        "## LA fonction dict() permet de transformer une liste de liste en dictionnaire\n",
        "liste_couleur = [[\"Rouge\",\"#FF0000\"],[\"Vert\",\"#00FF00\" ]]\n",
        "liste_couleur = dict(liste_couleur)\n",
        "print(type(liste_couleur))\n",
        "print(liste_couleur)\n",
        "## on peut ajouter une paire de valeur de cette façon\n",
        "liste_couleur[\"Bleu\"] = \"#0000FF\"\n",
        "## permet de supprimer la paire de valeur dont la clé est Rouge\n",
        "del liste_couleur[\"Rouge\"]\n",
        "print(liste_couleur)\n",
        "ExistePaireBleuDansListe = \"Bleu\" in liste_couleur\n",
        "print(ExistePaireBleuDansListe)\n",
        "## len permet de donner la taille  d'une liste\n",
        "print(len(liste_couleur))\n",
        "\n",
        "##calculatrice\n",
        "nombre_gauche = 15\n",
        "nombre_droite = 12\n",
        "liste_symbole = [\"/\",\"-\",\"*\",\"/\"]\n",
        "if (type(nombre_gauche) is int and type(nombre_droite) is int) :\n",
        "  print(\"les deux nombres sont des entiers\")\n",
        "symboleSelectionne = liste_symbole[0]\n",
        "match symboleSelectionne:\n",
        "  case \"+\":\n",
        "    print(nombre_gauche + nombre_droite)\n",
        "  case \"-\":\n",
        "    print(nombre_gauche - nombre_droite)\n",
        "  case \"*\":\n",
        "    print(nombre_gauche * nombre_droite)\n",
        "  case \"/\":\n",
        "    if (nombre_droite == 0) :\n",
        "      print(\"division par zero impossible\")\n",
        "    else :\n",
        "      print(nombre_gauche / nombre_droite)\n",
        "\n",
        "for symbole in liste_symbole:\n",
        "  print(symbole)\n",
        "\n",
        "for x in range(8):\n",
        "  print(x)\n",
        "\n",
        "print (\"donner des info\")\n",
        "##permet de donner les elements pas la console\n",
        "saisie_nombre=input()\n",
        "##split permet de transformer une chaine de caractere en liste\n",
        "liste_nombre=saisie_nombre.split(\";\")\n",
        "sommes_nombre = 0\n",
        "moyenne_nombre = 0\n",
        "moyenne = 0\n",
        "cptNombresSupMoyenne = 0\n",
        "##calculer le nombre de nombre dans la liste\n",
        "nombre_de_nombre = len(liste_nombre)\n",
        "print(nombre_de_nombre)\n",
        "\n",
        "for nombre in liste_nombre:\n",
        "  entier_Nombre = int(nombre)\n",
        "  sommes_nombre = sommes_nombre + entier_Nombre\n",
        "  moyenne = sommes_nombre / nombre_de_nombre\n",
        "\n",
        "for nombre in liste_nombre:\n",
        "    entier_nombre = int(nombre)\n",
        "    if entier_nombre > moyenne:\n",
        "      cptNombresSupMoyenne = cptNombresSupMoyenne + 1\n",
        "compteur = 0\n",
        "compteur_de_pair = 0\n",
        "\n",
        "while compteur < len(liste_nombre):\n",
        "  nombre = int(liste_nombre[compteur])\n",
        "  if nombre % 2 == 0 :\n",
        "    compteur_de_pair += 1\n",
        "  compteur += 1\n",
        "\n",
        "print(f\"nombrede paire :{compteur_de_pair}\")\n",
        "\n",
        " ## a la différence du language java le python permet de renvoyer 2 elements en retour\n",
        "## Par exemple\n",
        "def input_de_nombre():\n",
        "  num1 = float(input(\"Entrez le premier nombre : \"))\n",
        "  num2 = float(input(\"entrez le deuxiemen nombre : \"))\n",
        "  return num1, num2\n",
        "\n",
        "##On l'appelle de cette façon\n",
        "num1, num2 = input_de_nombre()\n",
        "\n",
        "\n",
        "print(sommes_nombre)\n",
        "print(moyenne)\n",
        "print(f\"nombre de nombre sup moyenne :{cptNombresSupMoyenne}\")\n",
        "\n",
        "\n",
        "\n",
        "\n",
        "\n",
        "\n",
        "\n",
        "\n"
      ],
      "metadata": {
        "colab": {
          "base_uri": "https://localhost:8080/",
          "height": 877
        },
        "id": "pwl__ux-jPwW",
        "outputId": "c9cbb268-e5b7-42f6-c0d6-544ff9ee88f4"
      },
      "execution_count": null,
      "outputs": [
        {
          "output_type": "stream",
          "name": "stdout",
          "text": [
            "Hello,world !\n",
            "87\n",
            "je suis un gros nanard \n",
            "je m'appelle BERNARD et j ai 9 ans\n",
            "je mesure 1.45m et je suis etudiant False\n",
            " le type des donnée esy <class 'float'> tandis que le type de la variable est <class 'bool'>\n",
            "le dernier element de la liste est j\n",
            "le premier elemnent de la liste est abcd\n",
            "le premier caractere de la chaine est d\n",
            "voici un exemple d acces inversés c\n",
            "le sixieme caractere de la chaine BERNARD est R\n",
            "['b', 'c', 'd', 'e', 'f', 'g', 'h', 'i', 'j', 'k']\n",
            "le lundi existe dans le tuple True\n",
            "['pomme', 'ananas', 'orange', 'kiwi', 'melon', 'cassis']\n",
            "6\n",
            "<class 'dict'>\n",
            "{'Rouge': '#FF0000', 'Vert': '#00FF00'}\n",
            "{'Vert': '#00FF00', 'Bleu': '#0000FF'}\n",
            "True\n",
            "2\n",
            "les deux nombres sont des entiers\n",
            "1.25\n",
            "/\n",
            "-\n",
            "*\n",
            "/\n",
            "0\n",
            "1\n",
            "2\n",
            "3\n",
            "4\n",
            "5\n",
            "6\n",
            "7\n",
            "donner des info\n",
            "sasa\n",
            "1\n"
          ]
        },
        {
          "output_type": "error",
          "ename": "ValueError",
          "evalue": "invalid literal for int() with base 10: 'sasa'",
          "traceback": [
            "\u001b[0;31m---------------------------------------------------------------------------\u001b[0m",
            "\u001b[0;31mValueError\u001b[0m                                Traceback (most recent call last)",
            "\u001b[0;32m<ipython-input-1-179f7b9dd700>\u001b[0m in \u001b[0;36m<cell line: 104>\u001b[0;34m()\u001b[0m\n\u001b[1;32m    103\u001b[0m \u001b[0;34m\u001b[0m\u001b[0m\n\u001b[1;32m    104\u001b[0m \u001b[0;32mfor\u001b[0m \u001b[0mnombre\u001b[0m \u001b[0;32min\u001b[0m \u001b[0mliste_nombre\u001b[0m\u001b[0;34m:\u001b[0m\u001b[0;34m\u001b[0m\u001b[0;34m\u001b[0m\u001b[0m\n\u001b[0;32m--> 105\u001b[0;31m   \u001b[0mentier_Nombre\u001b[0m \u001b[0;34m=\u001b[0m \u001b[0mint\u001b[0m\u001b[0;34m(\u001b[0m\u001b[0mnombre\u001b[0m\u001b[0;34m)\u001b[0m\u001b[0;34m\u001b[0m\u001b[0;34m\u001b[0m\u001b[0m\n\u001b[0m\u001b[1;32m    106\u001b[0m   \u001b[0msommes_nombre\u001b[0m \u001b[0;34m=\u001b[0m \u001b[0msommes_nombre\u001b[0m \u001b[0;34m+\u001b[0m \u001b[0mentier_Nombre\u001b[0m\u001b[0;34m\u001b[0m\u001b[0;34m\u001b[0m\u001b[0m\n\u001b[1;32m    107\u001b[0m   \u001b[0mmoyenne\u001b[0m \u001b[0;34m=\u001b[0m \u001b[0msommes_nombre\u001b[0m \u001b[0;34m/\u001b[0m \u001b[0mnombre_de_nombre\u001b[0m\u001b[0;34m\u001b[0m\u001b[0;34m\u001b[0m\u001b[0m\n",
            "\u001b[0;31mValueError\u001b[0m: invalid literal for int() with base 10: 'sasa'"
          ]
        }
      ]
    }
  ]
}